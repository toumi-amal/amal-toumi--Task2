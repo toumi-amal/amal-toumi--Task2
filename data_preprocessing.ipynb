{
 "cells": [
  {
   "cell_type": "code",
   "execution_count": 1,
   "metadata": {},
   "outputs": [
    {
     "name": "stderr",
     "output_type": "stream",
     "text": [
      "c:\\Users\\AMAL\\anaconda3\\envs\\task21\\lib\\site-packages\\sentence_transformers\\cross_encoder\\CrossEncoder.py:13: TqdmWarning: IProgress not found. Please update jupyter and ipywidgets. See https://ipywidgets.readthedocs.io/en/stable/user_install.html\n",
      "  from tqdm.autonotebook import tqdm, trange\n"
     ]
    }
   ],
   "source": [
    "from sklearn.metrics.pairwise import cosine_similarity\n",
    "from sentence_transformers import SentenceTransformer\n",
    "from langchain.embeddings import HuggingFaceEmbeddings\n",
    "import pandas as pd"
   ]
  },
  {
   "cell_type": "code",
   "execution_count": 2,
   "metadata": {},
   "outputs": [
    {
     "name": "stdout",
     "output_type": "stream",
     "text": [
      "                                           Questions  \\\n",
      "0                                   What is Python?¶   \n",
      "1                                   What is Python?¶   \n",
      "2           What is the Python Software Foundation?¶   \n",
      "3  Are there copyright restrictions on the use of...   \n",
      "4        Why was Python created in the first place?¶   \n",
      "\n",
      "                                             Answers  \n",
      "0  Python is an interpreted, interactive, object-...  \n",
      "1  Python is an interpreted, interactive, object-...  \n",
      "2  The Python Software Foundation is an independe...  \n",
      "3  You can do anything you want with the source, ...  \n",
      "4  Heres a very brief summary of what started it...  \n"
     ]
    }
   ],
   "source": [
    "\n",
    "data = pd.read_csv(\"Python FAQ Dataset.csv\", encoding=\"ISO-8859-1\")\n",
    "print(data.head())"
   ]
  },
  {
   "cell_type": "code",
   "execution_count": 3,
   "metadata": {},
   "outputs": [
    {
     "name": "stdout",
     "output_type": "stream",
     "text": [
      "Questions    0\n",
      "Answers      0\n",
      "dtype: int64\n"
     ]
    }
   ],
   "source": [
    "# Vérifier les valeurs manquantes dans le DataFrame\n",
    "missing_values = data.isnull().sum()\n",
    "\n",
    "# Afficher le nombre de valeurs manquantes par colonne\n",
    "print(missing_values)"
   ]
  },
  {
   "cell_type": "code",
   "execution_count": 4,
   "metadata": {},
   "outputs": [
    {
     "name": "stdout",
     "output_type": "stream",
     "text": [
      "0                                       What is Python?¶\n",
      "1                                       What is Python?¶\n",
      "2               What is the Python Software Foundation?¶\n",
      "3      Are there copyright restrictions on the use of...\n",
      "4            Why was Python created in the first place?¶\n",
      "                             ...                        \n",
      "133         How do I generate random numbers in Python?¶\n",
      "134               How do I freeze Tkinter applications?¶\n",
      "135               How do I freeze Tkinter applications?¶\n",
      "136    Can I have Tk events handled while waiting for...\n",
      "137    I cant get key bindings to work in Tkinter: w...\n",
      "Name: Questions, Length: 138, dtype: object\n"
     ]
    }
   ],
   "source": [
    "print(data[\"Questions\"])\n"
   ]
  },
  {
   "cell_type": "code",
   "execution_count": 8,
   "metadata": {},
   "outputs": [],
   "source": [
    "def find_similar_question(example_question):\n",
    "    model=HuggingFaceEmbeddings(model_name=\"sentence-transformers/all-MiniLM-L6-v2\")\n",
    "    faq_questions = data[\"Questions\"].tolist()\n",
    "    faq_embeddings = model.embed_documents(faq_questions)\n",
    "    # Encode the example question\n",
    "    example_embedding = model.encode([example_question])\n",
    "    \n",
    "    # Calculate cosine similarity between the example and all FAQ questions\n",
    "    similarities = cosine_similarity(example_embedding, faq_embeddings)\n",
    "    \n",
    "    # Find the index of the most similar question\n",
    "    most_similar_idx = similarities.argmax()\n",
    "    \n",
    "    # Return the most similar question and its answer\n",
    "    return faq_questions[most_similar_idx], data['Answers'].iloc[most_similar_idx]"
   ]
  },
  {
   "cell_type": "code",
   "execution_count": null,
   "metadata": {},
   "outputs": [],
   "source": []
  }
 ],
 "metadata": {
  "kernelspec": {
   "display_name": "task21",
   "language": "python",
   "name": "python3"
  },
  "language_info": {
   "codemirror_mode": {
    "name": "ipython",
    "version": 3
   },
   "file_extension": ".py",
   "mimetype": "text/x-python",
   "name": "python",
   "nbconvert_exporter": "python",
   "pygments_lexer": "ipython3",
   "version": "3.8.20"
  }
 },
 "nbformat": 4,
 "nbformat_minor": 2
}

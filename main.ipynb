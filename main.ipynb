{
 "cells": [
  {
   "cell_type": "code",
   "execution_count": 11,
   "metadata": {},
   "outputs": [],
   "source": [
    "from sklearn.metrics.pairwise import cosine_similarity\n",
    "from sentence_transformers import SentenceTransformer\n",
    "import pandas as pd"
   ]
  },
  {
   "cell_type": "code",
   "execution_count": 5,
   "metadata": {},
   "outputs": [
    {
     "name": "stdout",
     "output_type": "stream",
     "text": [
      "   Question_ID                                          Questions  \\\n",
      "0      1590140        What does it mean to have a mental illness?   \n",
      "1      2110618                    Who does mental illness affect?   \n",
      "2      6361820                        What causes mental illness?   \n",
      "3      9434130  What are some of the warning signs of mental i...   \n",
      "4      7657263            Can people with mental illness recover?   \n",
      "\n",
      "                                             Answers  \n",
      "0  Mental illnesses are health conditions that di...  \n",
      "1  It is estimated that mental illness affects 1 ...  \n",
      "2  It is estimated that mental illness affects 1 ...  \n",
      "3  Symptoms of mental health disorders vary depen...  \n",
      "4  When healing from mental illness, early identi...  \n"
     ]
    }
   ],
   "source": [
    "\n",
    "data = pd.read_csv(\"Mental_Health_FAQ.csv\")\n",
    "print(data.head())"
   ]
  },
  {
   "cell_type": "code",
   "execution_count": 17,
   "metadata": {},
   "outputs": [
    {
     "name": "stdout",
     "output_type": "stream",
     "text": [
      "Question_ID    0\n",
      "Questions      0\n",
      "Answers        0\n",
      "dtype: int64\n"
     ]
    }
   ],
   "source": [
    "# Vérifier les valeurs manquantes dans le DataFrame\n",
    "missing_values = data.isnull().sum()\n",
    "\n",
    "# Afficher le nombre de valeurs manquantes par colonne\n",
    "print(missing_values)"
   ]
  },
  {
   "cell_type": "code",
   "execution_count": 24,
   "metadata": {},
   "outputs": [
    {
     "name": "stdout",
     "output_type": "stream",
     "text": [
      "78    What is dysthymia or persistent depressive dis...\n",
      "Name: Questions, dtype: object\n"
     ]
    }
   ],
   "source": [
    "print(data[\"Questions\"][78:79])\n"
   ]
  },
  {
   "cell_type": "code",
   "execution_count": 3,
   "metadata": {},
   "outputs": [],
   "source": [
    "model = SentenceTransformer('distilbert-base-nli-mean-tokens')\n"
   ]
  },
  {
   "cell_type": "code",
   "execution_count": 9,
   "metadata": {},
   "outputs": [],
   "source": [
    "faq_questions = data[\"Questions\"].tolist()\n",
    "faq_embeddings = model.encode(faq_questions)"
   ]
  },
  {
   "cell_type": "code",
   "execution_count": 10,
   "metadata": {},
   "outputs": [],
   "source": [
    "def find_similar_question(example_question, model, faq_questions, faq_embeddings):\n",
    "    # Encode the example question\n",
    "    example_embedding = model.encode([example_question])\n",
    "    \n",
    "    # Calculate cosine similarity between the example and all FAQ questions\n",
    "    similarities = cosine_similarity(example_embedding, faq_embeddings)\n",
    "    \n",
    "    # Find the index of the most similar question\n",
    "    most_similar_idx = similarities.argmax()\n",
    "    \n",
    "    # Return the most similar question and its answer\n",
    "    return faq_questions[most_similar_idx], data['Answers'].iloc[most_similar_idx]"
   ]
  },
  {
   "cell_type": "code",
   "execution_count": 28,
   "metadata": {},
   "outputs": [
    {
     "name": "stdout",
     "output_type": "stream",
     "text": [
      "Example Question: What are the Symptoms of mental health disease\n",
      "Most Similar Question: What causes mental health problems?\n",
      "Answer: Challenges or problems with your mental health can arise from psychological, biological, and social, issues, as well as life events.\n"
     ]
    }
   ],
   "source": [
    "example_question = \"What are the Symptoms of mental health disease\"\n",
    "\n",
    "# Find the most similar question and its answer\n",
    "similar_question, answer = find_similar_question(example_question, model, faq_questions, faq_embeddings)\n",
    "\n",
    "print(f\"Example Question: {example_question}\")\n",
    "print(f\"Most Similar Question: {similar_question}\")\n",
    "print(f\"Answer: {answer}\")\n"
   ]
  },
  {
   "cell_type": "code",
   "execution_count": null,
   "metadata": {},
   "outputs": [],
   "source": []
  }
 ],
 "metadata": {
  "kernelspec": {
   "display_name": "task21",
   "language": "python",
   "name": "python3"
  },
  "language_info": {
   "codemirror_mode": {
    "name": "ipython",
    "version": 3
   },
   "file_extension": ".py",
   "mimetype": "text/x-python",
   "name": "python",
   "nbconvert_exporter": "python",
   "pygments_lexer": "ipython3",
   "version": "3.8.20"
  }
 },
 "nbformat": 4,
 "nbformat_minor": 2
}
